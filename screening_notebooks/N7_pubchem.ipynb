{
 "cells": [
  {
   "cell_type": "markdown",
   "metadata": {},
   "source": [
    "## Notebook 7 - Search of products in PubChem"
   ]
  },
  {
   "cell_type": "code",
   "execution_count": null,
   "metadata": {},
   "outputs": [],
   "source": [
    "%run ../common.py"
   ]
  },
  {
   "cell_type": "code",
   "execution_count": 32,
   "metadata": {},
   "outputs": [],
   "source": [
    "df_products = pd.read_csv(filepath_results + 'Substrates_VB_clean.csv', encoding='utf8', usecols=('Name',))\n",
    "df_products = df_products.drop_duplicates('Name', ignore_index=True)\n"
   ]
  },
  {
   "cell_type": "code",
   "execution_count": 33,
   "metadata": {},
   "outputs": [],
   "source": [
    "import requests\n",
    "\n",
    "def wildcard_search_pubchem(query):\n",
    "    base_url = \"https://eutils.ncbi.nlm.nih.gov/entrez/eutils/esearch.fcgi\"\n",
    "    params = {\n",
    "        \"db\": \"pccompound\",\n",
    "        \"term\": f\"{query} *glucoside\",\n",
    "        \"retmode\": \"json\",\n",
    "    }\n",
    "    \n",
    "    response = requests.get(base_url, params=params)\n",
    "    \n",
    "    if response.status_code == 200:\n",
    "        data = response.json()\n",
    "        if 'esearchresult' in data and 'idlist' in data['esearchresult']:\n",
    "            cids = data['esearchresult']['idlist']\n",
    "            return cids\n",
    "        else:\n",
    "            return []\n",
    "    else:\n",
    "        return []\n",
    "\n",
    "def get_compound_names(cids):\n",
    "    names = {}\n",
    "    if not cids:\n",
    "        return names\n",
    "    \n",
    "    # Request compound names based on CIDs\n",
    "    cid_list = \",\".join(cids)\n",
    "    base_url = f\"https://pubchem.ncbi.nlm.nih.gov/rest/pug/compound/cid/{cid_list}/property/IUPACName/JSON\"\n",
    "    \n",
    "    response = requests.get(base_url)\n",
    "    \n",
    "    if response.status_code == 200:\n",
    "        data = response.json()\n",
    "        if 'PropertyTable' in data and 'Properties' in data['PropertyTable']:\n",
    "            for compound in data['PropertyTable']['Properties']:\n",
    "                cid = compound.get('CID')\n",
    "                name = compound.get('IUPACName')\n",
    "                names[cid] = name\n",
    "    return names"
   ]
  },
  {
   "cell_type": "code",
   "execution_count": 34,
   "metadata": {},
   "outputs": [
    {
     "name": "stderr",
     "output_type": "stream",
     "text": [
      "100%|██████████| 434/434 [02:55<00:00,  2.47it/s]\n"
     ]
    }
   ],
   "source": [
    "query_strings = df_products['Name'].to_list()\n",
    "cids = []\n",
    "names = []\n",
    "for query in tqdm(query_strings):\n",
    "    cid = wildcard_search_pubchem(query)\n",
    "    name = get_compound_names(cid)\n",
    "    cids.append(cid)\n",
    "    names.append(name)"
   ]
  },
  {
   "cell_type": "code",
   "execution_count": 35,
   "metadata": {},
   "outputs": [],
   "source": [
    "df_products['Product_Name'] = [list(name.values()) for name in names]\n",
    "df_products['CID'] = cids"
   ]
  },
  {
   "cell_type": "code",
   "execution_count": 36,
   "metadata": {},
   "outputs": [],
   "source": [
    "df_products['in_pubchem'] = [bool(x) for x in df_products['CID']]"
   ]
  },
  {
   "cell_type": "code",
   "execution_count": 37,
   "metadata": {},
   "outputs": [
    {
     "data": {
      "text/plain": [
       "in_pubchem\n",
       "False    358\n",
       "True      76\n",
       "Name: count, dtype: int64"
      ]
     },
     "execution_count": 37,
     "metadata": {},
     "output_type": "execute_result"
    }
   ],
   "source": [
    "df_products['in_pubchem'].value_counts()"
   ]
  },
  {
   "cell_type": "code",
   "execution_count": 68,
   "metadata": {},
   "outputs": [],
   "source": []
  },
  {
   "cell_type": "code",
   "execution_count": 38,
   "metadata": {},
   "outputs": [],
   "source": [
    "# Let us add a column indicating how many enzymes turned over each substrate\n",
    "\n",
    "df_sd = pd.read_csv(filepath_results + 'Screening_results_CosineScore_0.85.csv')\n",
    "df_sd = df_sd.drop_duplicates(['Name', 'Enzyme_name'])\n",
    "enzymes_react = dict(df_sd['Name'].value_counts())"
   ]
  },
  {
   "cell_type": "code",
   "execution_count": 39,
   "metadata": {},
   "outputs": [],
   "source": [
    "df_products['Enzymes_react'] = df_products['Name'].apply(lambda x: enzymes_react.get(x, 0))\n"
   ]
  },
  {
   "cell_type": "code",
   "execution_count": 40,
   "metadata": {},
   "outputs": [],
   "source": [
    "df_products['reacted'] = df_products['Enzymes_react'] > 0"
   ]
  },
  {
   "cell_type": "code",
   "execution_count": 41,
   "metadata": {},
   "outputs": [
    {
     "data": {
      "image/png": "[encoded data removed]",
      "text/plain": [
       "<Figure size 640x480 with 1 Axes>"
      ]
     },
     "metadata": {},
     "output_type": "display_data"
    }
   ],
   "source": [
    "sns.countplot(x='Enzymes_react', \n",
    "              hue='in_pubchem', \n",
    "              data=df_products,\n",
    "              dodge=False,\n",
    "              native_scale=True,\n",
    "              edgecolor='k',\n",
    "              width=1.0,\n",
    "              linewidth=0.5)\n",
    "plt.ylim([0,16])\n",
    "plt.xlim([-0.5,85])\n",
    "plt.xlabel('Number of enzymes turning over a substrate')\n",
    "plt.ylabel('Number of substrates')\n",
    "plt.xticks(rotation=90)\n",
    "plt.xticks(range(0, 86, 5))\n",
    "plt.yticks(range(0, 16, 2))\n",
    "plt.show()"
   ]
  },
  {
   "cell_type": "code",
   "execution_count": 42,
   "metadata": {},
   "outputs": [],
   "source": [
    "df_products.to_csv(filepath_results + 'potential_products_pubchem.csv', index=False)"
   ]
  },
  {
   "cell_type": "code",
   "execution_count": 43,
   "metadata": {},
   "outputs": [],
   "source": [
    "df_products = pd.read_csv(filepath_results + 'potential_products_pubchem.csv')"
   ]
  },
  {
   "cell_type": "code",
   "execution_count": 44,
   "metadata": {},
   "outputs": [
    {
     "data": {
      "text/html": [
       "<div>\n",
       "<style scoped>\n",
       "    .dataframe tbody tr th:only-of-type {\n",
       "        vertical-align: middle;\n",
       "    }\n",
       "\n",
       "    .dataframe tbody tr th {\n",
       "        vertical-align: top;\n",
       "    }\n",
       "\n",
       "    .dataframe thead th {\n",
       "        text-align: right;\n",
       "    }\n",
       "</style>\n",
       "<table border=\"1\" class=\"dataframe\">\n",
       "  <thead>\n",
       "    <tr style=\"text-align: right;\">\n",
       "      <th>in_pubchem</th>\n",
       "      <th>False</th>\n",
       "      <th>True</th>\n",
       "      <th>All</th>\n",
       "    </tr>\n",
       "    <tr>\n",
       "      <th>reacted</th>\n",
       "      <th></th>\n",
       "      <th></th>\n",
       "      <th></th>\n",
       "    </tr>\n",
       "  </thead>\n",
       "  <tbody>\n",
       "    <tr>\n",
       "      <th>False</th>\n",
       "      <td>218</td>\n",
       "      <td>29</td>\n",
       "      <td>247</td>\n",
       "    </tr>\n",
       "    <tr>\n",
       "      <th>True</th>\n",
       "      <td>140</td>\n",
       "      <td>47</td>\n",
       "      <td>187</td>\n",
       "    </tr>\n",
       "    <tr>\n",
       "      <th>All</th>\n",
       "      <td>358</td>\n",
       "      <td>76</td>\n",
       "      <td>434</td>\n",
       "    </tr>\n",
       "  </tbody>\n",
       "</table>\n",
       "</div>"
      ],
      "text/plain": [
       "in_pubchem  False  True  All\n",
       "reacted                     \n",
       "False         218    29  247\n",
       "True          140    47  187\n",
       "All           358    76  434"
      ]
     },
     "execution_count": 44,
     "metadata": {},
     "output_type": "execute_result"
    }
   ],
   "source": [
    "### Figure 2b\n",
    "\n",
    "pd.crosstab(df_products['reacted'], df_products['in_pubchem'], margins=True)"
   ]
  },
  {
   "cell_type": "code",
   "execution_count": null,
   "metadata": {},
   "outputs": [],
   "source": []
  }
 ],
 "metadata": {
  "kernelspec": {
   "display_name": "Python [conda env:base] *",
   "language": "python",
   "name": "conda-base-py"
  },
  "language_info": {
   "codemirror_mode": {
    "name": "ipython",
    "version": 3
   },
   "file_extension": ".py",
   "mimetype": "text/x-python",
   "name": "python",
   "nbconvert_exporter": "python",
   "pygments_lexer": "ipython3",
   "version": "3.12.7"
  }
 },
 "nbformat": 4,
 "nbformat_minor": 4
}
